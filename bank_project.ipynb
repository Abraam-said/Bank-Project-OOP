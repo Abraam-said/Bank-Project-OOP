{
 "cells": [
  {
   "cell_type": "markdown",
   "id": "d02cbb7e",
   "metadata": {
    "id": "VcVSo9kzHCxH"
   },
   "source": [
    "> ###  The Central Bank contacted our technical team and asked it to develop a program suitable for all banks, with the addition of some advantages for certain banks"
   ]
  },
  {
   "cell_type": "markdown",
   "id": "7495c6d1",
   "metadata": {
    "id": "-7XiAaIEHCxK"
   },
   "source": [
    "# Task 1 : \n",
    "- #### task 1.1 Make Class(User) with attributes:\n",
    "    - name \n",
    "    - age \n",
    "    - gender \n",
    "    - balance\n",
    "- #### task 1.2 Make method to show previous data "
   ]
  },
  {
   "cell_type": "code",
   "execution_count": 2,
   "id": "77cb0574",
   "metadata": {},
   "outputs": [],
   "source": [
    "class User:\n",
    "    \n",
    "    def __init__(self, name, age, gender, balance='0'):\n",
    "        self.name = name\n",
    "        self.age = age\n",
    "        self.gender = gender\n",
    "        self.balance = balance\n",
    "        \n",
    "    def show_data(self):\n",
    "        print(f\"Name: {self.name}\")\n",
    "        print(f\"Age: {self.age}\")\n",
    "        print(f\"Gender: {self.gender}\")\n",
    "        print(f\"Balance: {self.balance}\")"
   ]
  },
  {
   "cell_type": "code",
   "execution_count": 3,
   "id": "ec2e73e7",
   "metadata": {},
   "outputs": [
    {
     "name": "stdout",
     "output_type": "stream",
     "text": [
      "Name: Joe\n",
      "Age: 25\n",
      "Gender: Male\n",
      "Balance: 10000\n"
     ]
    }
   ],
   "source": [
    "user1 = User(\"Joe\", 25, \"Male\", 10000)\n",
    "user1.show_data()"
   ]
  },
  {
   "cell_type": "code",
   "execution_count": 4,
   "id": "2884bb44",
   "metadata": {},
   "outputs": [
    {
     "name": "stdout",
     "output_type": "stream",
     "text": [
      "Name: John\n",
      "Age: 24\n",
      "Gender: Male\n",
      "Balance: 0\n"
     ]
    }
   ],
   "source": [
    "user2 = User(\"John\", 24, \"Male\")\n",
    "user2.show_data()"
   ]
  },
  {
   "cell_type": "markdown",
   "id": "5f8591bf",
   "metadata": {
    "id": "Xub083qUHCxZ"
   },
   "source": [
    "# Task 2 : \n",
    "- Make Child Class(Bank) which inherite from Class(user) with Mehods:\n",
    "    - #### task 2.1 deposite : which take parameter(amount) and add it to balance and print new balance.  \n",
    "    - #### task 2.2 withdraw : which take parameter(amount) and check if user have enough money. \n",
    "    - #### task 2.3 view balance : to show current balance. \n"
   ]
  },
  {
   "cell_type": "code",
   "execution_count": 33,
   "id": "d8e740c8",
   "metadata": {},
   "outputs": [],
   "source": [
    "class Bank(User):\n",
    "    \n",
    "    def __init__(self, name, age, gender, balance, bank_name):\n",
    "        if balance >= 0:\n",
    "            super(Bank, self).__init__(name, age, gender, balance)\n",
    "            self.bank_name = bank_name\n",
    "        else:\n",
    "            raise Exception(\"Number should be positive\")\n",
    "            \n",
    "    def show_data(self):\n",
    "        super(Bank, self).show_data()\n",
    "        print(f\"Bank Name: {self.bank_name}\")\n",
    "    \n",
    "    def deposit(self, amount):\n",
    "        if amount > 0:\n",
    "            self.balance = self.balance + amount\n",
    "        else:\n",
    "            print(\"Enter a valid positive amount\")\n",
    "    \n",
    "    def show_balance(self):\n",
    "        return self.balance\n",
    "    \n",
    "    def withDraw(self, amount):\n",
    "        if  amount > self.balance:\n",
    "            print(\"Not enough money\")\n",
    "        elif amount <= 0:\n",
    "            print('Insufficient withdraw amount please enter a number greater than zero')\n",
    "        else:\n",
    "            self.balance = self.balance - amount\n",
    "            print(f\"Current balance: {self.show_balance()}\")"
   ]
  },
  {
   "cell_type": "code",
   "execution_count": 47,
   "id": "5876a88b",
   "metadata": {},
   "outputs": [],
   "source": [
    "Bank1 = Bank(\"joe\", 26, \"Male\", 2200, \"CIB\")"
   ]
  },
  {
   "cell_type": "code",
   "execution_count": 48,
   "id": "63dc32d1",
   "metadata": {},
   "outputs": [
    {
     "name": "stdout",
     "output_type": "stream",
     "text": [
      "Name: joe\n",
      "Age: 26\n",
      "Gender: Male\n",
      "Balance: 2200\n",
      "Bank Name: CIB\n"
     ]
    }
   ],
   "source": [
    "Bank1.show_data()"
   ]
  },
  {
   "cell_type": "code",
   "execution_count": 49,
   "id": "1be86d48",
   "metadata": {},
   "outputs": [
    {
     "name": "stdout",
     "output_type": "stream",
     "text": [
      "Enter a valid positive amount\n"
     ]
    }
   ],
   "source": [
    "Bank1.deposit(-1300)"
   ]
  },
  {
   "cell_type": "code",
   "execution_count": 50,
   "id": "b1393e79",
   "metadata": {},
   "outputs": [
    {
     "name": "stdout",
     "output_type": "stream",
     "text": [
      "Name: joe\n",
      "Age: 26\n",
      "Gender: Male\n",
      "Balance: 2200\n",
      "Bank Name: CIB\n"
     ]
    }
   ],
   "source": [
    "Bank1.show_data()"
   ]
  },
  {
   "cell_type": "code",
   "execution_count": 53,
   "id": "717eda24",
   "metadata": {},
   "outputs": [
    {
     "data": {
      "text/plain": [
       "1700"
      ]
     },
     "execution_count": 53,
     "metadata": {},
     "output_type": "execute_result"
    }
   ],
   "source": [
    "Bank1.show_balance()"
   ]
  },
  {
   "cell_type": "code",
   "execution_count": 52,
   "id": "36c64e9e",
   "metadata": {},
   "outputs": [
    {
     "name": "stdout",
     "output_type": "stream",
     "text": [
      "Current balance: 1700\n"
     ]
    }
   ],
   "source": [
    "Bank1.withDraw(500)"
   ]
  },
  {
   "cell_type": "markdown",
   "id": "36e05281",
   "metadata": {
    "id": "frK7xOJ9HCxq"
   },
   "source": [
    "# Task 3 : \n",
    "- #### task 3.1 Make Child Class(CIB) which inherite from Class(Bank) with Mehods:\n",
    "    -   Loan application: which take parameter(amount) and  (Duration) >> max loan is one million\n",
    "- #### task 3.2 Make Child Class(QNB) which inherite from Class(Bank) with Mehods:\n",
    "    -   Loan application: which take parameter(amount) and  (Duration) >> max loan is one 2 million"
   ]
  },
  {
   "cell_type": "code",
   "execution_count": 46,
   "id": "1215dfcd",
   "metadata": {},
   "outputs": [],
   "source": [
    "class CIB(Bank):\n",
    "    \n",
    "    def loan_application(self, amount, duration) :\n",
    "        if amount > 1000000:\n",
    "            print(\"Sorry max loan is 1 million\")\n",
    "        else:\n",
    "            print(\"Your application is under review\")"
   ]
  },
  {
   "cell_type": "code",
   "execution_count": 61,
   "id": "3a44d1c2",
   "metadata": {},
   "outputs": [],
   "source": [
    "class QNB(Bank):\n",
    "    \n",
    "    def loan_application(self, amount, duration) :\n",
    "        if amount > 2000000:\n",
    "            print(\"Sorry max loan is 2 million\")\n",
    "        else:\n",
    "            print(\"Your application is under review\")"
   ]
  },
  {
   "cell_type": "code",
   "execution_count": 62,
   "id": "9099a4cf",
   "metadata": {},
   "outputs": [],
   "source": [
    "cib_user = CIB(\"john\", 24, \"Male\", 1000, 'CIB')"
   ]
  },
  {
   "cell_type": "code",
   "execution_count": 67,
   "id": "1dbc5623",
   "metadata": {},
   "outputs": [
    {
     "name": "stdout",
     "output_type": "stream",
     "text": [
      "Your application is under review\n"
     ]
    }
   ],
   "source": [
    "cib_user.loan_application(1000000,12)"
   ]
  },
  {
   "cell_type": "code",
   "execution_count": 64,
   "id": "d55c5ee9",
   "metadata": {},
   "outputs": [],
   "source": [
    "cib_user = QNB(\"joe\", 24, \"Male\", 700000, 'QNB')"
   ]
  },
  {
   "cell_type": "code",
   "execution_count": 68,
   "id": "3b67a522",
   "metadata": {},
   "outputs": [
    {
     "name": "stdout",
     "output_type": "stream",
     "text": [
      "Your application is under review\n"
     ]
    }
   ],
   "source": [
    "cib_user.loan_application(2000000,12)"
   ]
  },
  {
   "cell_type": "code",
   "execution_count": null,
   "id": "e6edfce7",
   "metadata": {},
   "outputs": [],
   "source": []
  }
 ],
 "metadata": {
  "kernelspec": {
   "display_name": "Python 3 (ipykernel)",
   "language": "python",
   "name": "python3"
  },
  "language_info": {
   "codemirror_mode": {
    "name": "ipython",
    "version": 3
   },
   "file_extension": ".py",
   "mimetype": "text/x-python",
   "name": "python",
   "nbconvert_exporter": "python",
   "pygments_lexer": "ipython3",
   "version": "3.9.15"
  }
 },
 "nbformat": 4,
 "nbformat_minor": 5
}
